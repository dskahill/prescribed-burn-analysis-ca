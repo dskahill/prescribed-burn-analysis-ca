{
 "cells": [
  {
   "cell_type": "code",
   "execution_count": 1,
   "id": "32256bd3",
   "metadata": {},
   "outputs": [],
   "source": [
    "import pandas as pd\n",
    "import geopandas as gpd\n",
    "from rasterstats import zonal_stats\n",
    "from rasterio import open as r_open\n",
    "from rasterio.plot import show as r_show \n",
    "\n",
    "def wf(x):\n",
    "    return '/Users/dannyskahill/Documents/DS 508/project/' + x"
   ]
  },
  {
   "cell_type": "code",
   "execution_count": 5,
   "id": "d4b8bf50",
   "metadata": {},
   "outputs": [],
   "source": [
    "su = gpd.read_file(wf('SAVED/selection_units.shp'))\n",
    "\n",
    "r_file2 = r_open(wf('Travel/traveltimeca.tif'))\n",
    "\n",
    "su = su.to_crs(r_file2.crs)\n"
   ]
  },
  {
   "cell_type": "code",
   "execution_count": 6,
   "id": "93e33a4f",
   "metadata": {},
   "outputs": [],
   "source": [
    "zs = zonal_stats(su, wf('Travel/traveltimeca.tif'), stats=['mean'], all_touched=True, nodata=-9999)"
   ]
  },
  {
   "cell_type": "code",
   "execution_count": 9,
   "id": "8dea300e",
   "metadata": {},
   "outputs": [],
   "source": [
    "zs = pd.DataFrame(zs, index=range(1, len(zs)+1))\n",
    "\n",
    "zs.to_csv(wf('SAVED/traveltimezs.csv'))"
   ]
  },
  {
   "cell_type": "code",
   "execution_count": null,
   "id": "39621ff1",
   "metadata": {},
   "outputs": [],
   "source": [
    "r_file = r_open(wf('calandcover.tif'))"
   ]
  },
  {
   "cell_type": "code",
   "execution_count": 13,
   "id": "6ddbeb4d",
   "metadata": {},
   "outputs": [],
   "source": [
    "su = su.to_crs(r_file.crs)"
   ]
  },
  {
   "cell_type": "code",
   "execution_count": 20,
   "id": "5cba92ba",
   "metadata": {},
   "outputs": [],
   "source": [
    "zs1 = zonal_stats(su, wf('calandcover.tif'), stats=['median'], all_touched=True, nodata=0.0)"
   ]
  },
  {
   "cell_type": "code",
   "execution_count": 21,
   "id": "88901ba0",
   "metadata": {},
   "outputs": [],
   "source": [
    "zs1 = pd.DataFrame(zs1, index=range(1, len(zs1)+1))\n",
    "\n",
    "zs1.to_csv(wf('SAVED/landcovertypezs.csv'))"
   ]
  },
  {
   "cell_type": "code",
   "execution_count": 22,
   "id": "83ae7bf4",
   "metadata": {},
   "outputs": [],
   "source": [
    "r_file3 = r_open(wf('firethreatca.tif'))"
   ]
  },
  {
   "cell_type": "code",
   "execution_count": 23,
   "id": "9cdc64f1",
   "metadata": {},
   "outputs": [],
   "source": [
    "su = su.to_crs(r_file3.crs)"
   ]
  },
  {
   "cell_type": "code",
   "execution_count": 24,
   "id": "55beed42",
   "metadata": {},
   "outputs": [],
   "source": [
    "zs2 = zonal_stats(su, wf('firethreatca.tif'), stats=['mean'], all_touched=True, nodata=-9999.0)"
   ]
  },
  {
   "cell_type": "code",
   "execution_count": 25,
   "id": "f355dd01",
   "metadata": {},
   "outputs": [],
   "source": [
    "zs2 = pd.DataFrame(zs2, index=range(1, len(zs2)+1))\n",
    "\n",
    "zs2.to_csv(wf('SAVED/firethreatsuzs.csv'))"
   ]
  },
  {
   "cell_type": "code",
   "execution_count": null,
   "id": "b19cd558",
   "metadata": {},
   "outputs": [],
   "source": []
  }
 ],
 "metadata": {
  "kernelspec": {
   "display_name": "Python 3",
   "language": "python",
   "name": "python3"
  },
  "language_info": {
   "codemirror_mode": {
    "name": "ipython",
    "version": 3
   },
   "file_extension": ".py",
   "mimetype": "text/x-python",
   "name": "python",
   "nbconvert_exporter": "python",
   "pygments_lexer": "ipython3",
   "version": "3.6.13"
  }
 },
 "nbformat": 4,
 "nbformat_minor": 5
}
